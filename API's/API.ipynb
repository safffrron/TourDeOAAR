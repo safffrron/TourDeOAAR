{
 "cells": [
  {
   "cell_type": "code",
   "execution_count": 1,
   "id": "869afcd7",
   "metadata": {},
   "outputs": [
    {
     "data": {
      "text/plain": [
       "200"
      ]
     },
     "execution_count": 1,
     "metadata": {},
     "output_type": "execute_result"
    }
   ],
   "source": [
    "import requests\n",
    "response= requests.get( 'https://dog.ceo/api/breeds/list/all')\n",
    "response.status_code"
   ]
  },
  {
   "cell_type": "code",
   "execution_count": 2,
   "id": "cb2adcfc",
   "metadata": {},
   "outputs": [
    {
     "data": {
      "text/plain": [
       "'utf-8'"
      ]
     },
     "execution_count": 2,
     "metadata": {},
     "output_type": "execute_result"
    }
   ],
   "source": [
    "response.encoding"
   ]
  },
  {
   "cell_type": "code",
   "execution_count": 3,
   "id": "6525b297",
   "metadata": {},
   "outputs": [
    {
     "data": {
      "text/plain": [
       "'https://dog.ceo/api/breeds/list/all'"
      ]
     },
     "execution_count": 3,
     "metadata": {},
     "output_type": "execute_result"
    }
   ],
   "source": [
    "response.url"
   ]
  },
  {
   "cell_type": "code",
   "execution_count": 4,
   "id": "4ed037ca",
   "metadata": {},
   "outputs": [
    {
     "data": {
      "text/plain": [
       "'{\"message\":{\"affenpinscher\":[],\"african\":[],\"airedale\":[],\"akita\":[],\"appenzeller\":[],\"australian\":[\"shepherd\"],\"basenji\":[],\"beagle\":[],\"bluetick\":[],\"borzoi\":[],\"bouvier\":[],\"boxer\":[],\"brabancon\":[],\"briard\":[],\"buhund\":[\"norwegian\"],\"bulldog\":[\"boston\",\"english\",\"french\"],\"bullterrier\":[\"staffordshire\"],\"cattledog\":[\"australian\"],\"chihuahua\":[],\"chow\":[],\"clumber\":[],\"cockapoo\":[],\"collie\":[\"border\"],\"coonhound\":[],\"corgi\":[\"cardigan\"],\"cotondetulear\":[],\"dachshund\":[],\"dalmatian\":[],\"dane\":[\"great\"],\"deerhound\":[\"scottish\"],\"dhole\":[],\"dingo\":[],\"doberman\":[],\"elkhound\":[\"norwegian\"],\"entlebucher\":[],\"eskimo\":[],\"finnish\":[\"lapphund\"],\"frise\":[\"bichon\"],\"germanshepherd\":[],\"greyhound\":[\"italian\"],\"groenendael\":[],\"havanese\":[],\"hound\":[\"afghan\",\"basset\",\"blood\",\"english\",\"ibizan\",\"plott\",\"walker\"],\"husky\":[],\"keeshond\":[],\"kelpie\":[],\"komondor\":[],\"kuvasz\":[],\"labradoodle\":[],\"labrador\":[],\"leonberg\":[],\"lhasa\":[],\"malamute\":[],\"malinois\":[],\"maltese\":[],\"mastiff\":[\"bull\",\"english\",\"tibetan\"],\"mexicanhairless\":[],\"mix\":[],\"mountain\":[\"bernese\",\"swiss\"],\"newfoundland\":[],\"otterhound\":[],\"ovcharka\":[\"caucasian\"],\"papillon\":[],\"pekinese\":[],\"pembroke\":[],\"pinscher\":[\"miniature\"],\"pitbull\":[],\"pointer\":[\"german\",\"germanlonghair\"],\"pomeranian\":[],\"poodle\":[\"medium\",\"miniature\",\"standard\",\"toy\"],\"pug\":[],\"puggle\":[],\"pyrenees\":[],\"redbone\":[],\"retriever\":[\"chesapeake\",\"curly\",\"flatcoated\",\"golden\"],\"ridgeback\":[\"rhodesian\"],\"rottweiler\":[],\"saluki\":[],\"samoyed\":[],\"schipperke\":[],\"schnauzer\":[\"giant\",\"miniature\"],\"segugio\":[\"italian\"],\"setter\":[\"english\",\"gordon\",\"irish\"],\"sharpei\":[],\"sheepdog\":[\"english\",\"shetland\"],\"shiba\":[],\"shihtzu\":[],\"spaniel\":[\"blenheim\",\"brittany\",\"cocker\",\"irish\",\"japanese\",\"sussex\",\"welsh\"],\"spitz\":[\"japanese\"],\"springer\":[\"english\"],\"stbernard\":[],\"terrier\":[\"american\",\"australian\",\"bedlington\",\"border\",\"cairn\",\"dandie\",\"fox\",\"irish\",\"kerryblue\",\"lakeland\",\"norfolk\",\"norwich\",\"patterdale\",\"russell\",\"scottish\",\"sealyham\",\"silky\",\"tibetan\",\"toy\",\"welsh\",\"westhighland\",\"wheaten\",\"yorkshire\"],\"tervuren\":[],\"vizsla\":[],\"waterdog\":[\"spanish\"],\"weimaraner\":[],\"whippet\":[],\"wolfhound\":[\"irish\"]},\"status\":\"success\"}'"
      ]
     },
     "execution_count": 4,
     "metadata": {},
     "output_type": "execute_result"
    }
   ],
   "source": [
    "response.text"
   ]
  },
  {
   "cell_type": "code",
   "execution_count": 5,
   "id": "9ae10b55",
   "metadata": {},
   "outputs": [
    {
     "data": {
      "text/plain": [
       "requests.structures.CaseInsensitiveDict"
      ]
     },
     "execution_count": 5,
     "metadata": {},
     "output_type": "execute_result"
    }
   ],
   "source": [
    "type(response.headers)"
   ]
  },
  {
   "cell_type": "code",
   "execution_count": 6,
   "id": "6300f95b",
   "metadata": {},
   "outputs": [
    {
     "data": {
      "text/plain": [
       "{'Date': 'Sat, 17 Jun 2023 11:17:04 GMT', 'Content-Type': 'application/json', 'Transfer-Encoding': 'chunked', 'Connection': 'keep-alive', 'X-Powered-By': 'PHP/8.1.0', 'Access-Control-Allow-Origin': '*', 'Via': '1.1 varnish (Varnish/6.3), 1.1 varnish (Varnish/6.3)', 'Cache-Control': 'max-age=1800', 'X-Cache-Age': '11051', 'X-Cache-Hits': '2294', 'X-Cache': 'HIT', 'Age': '0', 'Vary': 'Accept-Encoding', 'CF-Cache-Status': 'DYNAMIC', 'Report-To': '{\"endpoints\":[{\"url\":\"https:\\\\/\\\\/a.nel.cloudflare.com\\\\/report\\\\/v3?s=N%2BvGgXmeqxIN6106BOhw%2Be3i%2FDj1Dv%2FXmVk4JYraMznePm6TOLTVt31UPHa81SCwDQju%2FQZV8bYB0IIhPHLDeN9h5d4vrCfDRbxc4sVlWGNRzN1cuMJSovtB\"}],\"group\":\"cf-nel\",\"max_age\":604800}', 'NEL': '{\"success_fraction\":0,\"report_to\":\"cf-nel\",\"max_age\":604800}', 'Server': 'cloudflare', 'CF-RAY': '7d8ae24fcaf60fee-MRS', 'Content-Encoding': 'br', 'alt-svc': 'h3=\":443\"; ma=86400'}"
      ]
     },
     "execution_count": 6,
     "metadata": {},
     "output_type": "execute_result"
    }
   ],
   "source": [
    "response.headers"
   ]
  },
  {
   "cell_type": "code",
   "execution_count": 7,
   "id": "212f266c",
   "metadata": {},
   "outputs": [
    {
     "data": {
      "text/plain": [
       "'application/json'"
      ]
     },
     "execution_count": 7,
     "metadata": {},
     "output_type": "execute_result"
    }
   ],
   "source": [
    "response.headers['Content-type']"
   ]
  },
  {
   "cell_type": "code",
   "execution_count": 16,
   "id": "500e9fcc",
   "metadata": {},
   "outputs": [
    {
     "data": {
      "text/plain": [
       "{'message': {'affenpinscher': [],\n",
       "  'african': [],\n",
       "  'airedale': [],\n",
       "  'akita': [],\n",
       "  'appenzeller': [],\n",
       "  'australian': ['shepherd'],\n",
       "  'basenji': [],\n",
       "  'beagle': [],\n",
       "  'bluetick': [],\n",
       "  'borzoi': [],\n",
       "  'bouvier': [],\n",
       "  'boxer': [],\n",
       "  'brabancon': [],\n",
       "  'briard': [],\n",
       "  'buhund': ['norwegian'],\n",
       "  'bulldog': ['boston', 'english', 'french'],\n",
       "  'bullterrier': ['staffordshire'],\n",
       "  'cattledog': ['australian'],\n",
       "  'chihuahua': [],\n",
       "  'chow': [],\n",
       "  'clumber': [],\n",
       "  'cockapoo': [],\n",
       "  'collie': ['border'],\n",
       "  'coonhound': [],\n",
       "  'corgi': ['cardigan'],\n",
       "  'cotondetulear': [],\n",
       "  'dachshund': [],\n",
       "  'dalmatian': [],\n",
       "  'dane': ['great'],\n",
       "  'deerhound': ['scottish'],\n",
       "  'dhole': [],\n",
       "  'dingo': [],\n",
       "  'doberman': [],\n",
       "  'elkhound': ['norwegian'],\n",
       "  'entlebucher': [],\n",
       "  'eskimo': [],\n",
       "  'finnish': ['lapphund'],\n",
       "  'frise': ['bichon'],\n",
       "  'germanshepherd': [],\n",
       "  'greyhound': ['italian'],\n",
       "  'groenendael': [],\n",
       "  'havanese': [],\n",
       "  'hound': ['afghan',\n",
       "   'basset',\n",
       "   'blood',\n",
       "   'english',\n",
       "   'ibizan',\n",
       "   'plott',\n",
       "   'walker'],\n",
       "  'husky': [],\n",
       "  'keeshond': [],\n",
       "  'kelpie': [],\n",
       "  'komondor': [],\n",
       "  'kuvasz': [],\n",
       "  'labradoodle': [],\n",
       "  'labrador': [],\n",
       "  'leonberg': [],\n",
       "  'lhasa': [],\n",
       "  'malamute': [],\n",
       "  'malinois': [],\n",
       "  'maltese': [],\n",
       "  'mastiff': ['bull', 'english', 'tibetan'],\n",
       "  'mexicanhairless': [],\n",
       "  'mix': [],\n",
       "  'mountain': ['bernese', 'swiss'],\n",
       "  'newfoundland': [],\n",
       "  'otterhound': [],\n",
       "  'ovcharka': ['caucasian'],\n",
       "  'papillon': [],\n",
       "  'pekinese': [],\n",
       "  'pembroke': [],\n",
       "  'pinscher': ['miniature'],\n",
       "  'pitbull': [],\n",
       "  'pointer': ['german', 'germanlonghair'],\n",
       "  'pomeranian': [],\n",
       "  'poodle': ['medium', 'miniature', 'standard', 'toy'],\n",
       "  'pug': [],\n",
       "  'puggle': [],\n",
       "  'pyrenees': [],\n",
       "  'redbone': [],\n",
       "  'retriever': ['chesapeake', 'curly', 'flatcoated', 'golden'],\n",
       "  'ridgeback': ['rhodesian'],\n",
       "  'rottweiler': [],\n",
       "  'saluki': [],\n",
       "  'samoyed': [],\n",
       "  'schipperke': [],\n",
       "  'schnauzer': ['giant', 'miniature'],\n",
       "  'segugio': ['italian'],\n",
       "  'setter': ['english', 'gordon', 'irish'],\n",
       "  'sharpei': [],\n",
       "  'sheepdog': ['english', 'shetland'],\n",
       "  'shiba': [],\n",
       "  'shihtzu': [],\n",
       "  'spaniel': ['blenheim',\n",
       "   'brittany',\n",
       "   'cocker',\n",
       "   'irish',\n",
       "   'japanese',\n",
       "   'sussex',\n",
       "   'welsh'],\n",
       "  'spitz': ['japanese'],\n",
       "  'springer': ['english'],\n",
       "  'stbernard': [],\n",
       "  'terrier': ['american',\n",
       "   'australian',\n",
       "   'bedlington',\n",
       "   'border',\n",
       "   'cairn',\n",
       "   'dandie',\n",
       "   'fox',\n",
       "   'irish',\n",
       "   'kerryblue',\n",
       "   'lakeland',\n",
       "   'norfolk',\n",
       "   'norwich',\n",
       "   'patterdale',\n",
       "   'russell',\n",
       "   'scottish',\n",
       "   'sealyham',\n",
       "   'silky',\n",
       "   'tibetan',\n",
       "   'toy',\n",
       "   'welsh',\n",
       "   'westhighland',\n",
       "   'wheaten',\n",
       "   'yorkshire'],\n",
       "  'tervuren': [],\n",
       "  'vizsla': [],\n",
       "  'waterdog': ['spanish'],\n",
       "  'weimaraner': [],\n",
       "  'whippet': [],\n",
       "  'wolfhound': ['irish']},\n",
       " 'status': 'success'}"
      ]
     },
     "execution_count": 16,
     "metadata": {},
     "output_type": "execute_result"
    }
   ],
   "source": [
    "import json\n",
    "python_data=json.loads(response.text)\n",
    "python_data"
   ]
  },
  {
   "cell_type": "code",
   "execution_count": 13,
   "id": "4dcae616",
   "metadata": {},
   "outputs": [
    {
     "data": {
      "text/plain": [
       "['boston', 'english', 'french']"
      ]
     },
     "execution_count": 13,
     "metadata": {},
     "output_type": "execute_result"
    }
   ],
   "source": [
    "python_data['message']['bulldog']"
   ]
  },
  {
   "cell_type": "code",
   "execution_count": 14,
   "id": "99e4292b",
   "metadata": {},
   "outputs": [
    {
     "data": {
      "text/plain": [
       "{'message': {'affenpinscher': [],\n",
       "  'african': [],\n",
       "  'airedale': [],\n",
       "  'akita': [],\n",
       "  'appenzeller': [],\n",
       "  'australian': ['shepherd'],\n",
       "  'basenji': [],\n",
       "  'beagle': [],\n",
       "  'bluetick': [],\n",
       "  'borzoi': [],\n",
       "  'bouvier': [],\n",
       "  'boxer': [],\n",
       "  'brabancon': [],\n",
       "  'briard': [],\n",
       "  'buhund': ['norwegian'],\n",
       "  'bulldog': ['boston', 'english', 'french'],\n",
       "  'bullterrier': ['staffordshire'],\n",
       "  'cattledog': ['australian'],\n",
       "  'chihuahua': [],\n",
       "  'chow': [],\n",
       "  'clumber': [],\n",
       "  'cockapoo': [],\n",
       "  'collie': ['border'],\n",
       "  'coonhound': [],\n",
       "  'corgi': ['cardigan'],\n",
       "  'cotondetulear': [],\n",
       "  'dachshund': [],\n",
       "  'dalmatian': [],\n",
       "  'dane': ['great'],\n",
       "  'deerhound': ['scottish'],\n",
       "  'dhole': [],\n",
       "  'dingo': [],\n",
       "  'doberman': [],\n",
       "  'elkhound': ['norwegian'],\n",
       "  'entlebucher': [],\n",
       "  'eskimo': [],\n",
       "  'finnish': ['lapphund'],\n",
       "  'frise': ['bichon'],\n",
       "  'germanshepherd': [],\n",
       "  'greyhound': ['italian'],\n",
       "  'groenendael': [],\n",
       "  'havanese': [],\n",
       "  'hound': ['afghan',\n",
       "   'basset',\n",
       "   'blood',\n",
       "   'english',\n",
       "   'ibizan',\n",
       "   'plott',\n",
       "   'walker'],\n",
       "  'husky': [],\n",
       "  'keeshond': [],\n",
       "  'kelpie': [],\n",
       "  'komondor': [],\n",
       "  'kuvasz': [],\n",
       "  'labradoodle': [],\n",
       "  'labrador': [],\n",
       "  'leonberg': [],\n",
       "  'lhasa': [],\n",
       "  'malamute': [],\n",
       "  'malinois': [],\n",
       "  'maltese': [],\n",
       "  'mastiff': ['bull', 'english', 'tibetan'],\n",
       "  'mexicanhairless': [],\n",
       "  'mix': [],\n",
       "  'mountain': ['bernese', 'swiss'],\n",
       "  'newfoundland': [],\n",
       "  'otterhound': [],\n",
       "  'ovcharka': ['caucasian'],\n",
       "  'papillon': [],\n",
       "  'pekinese': [],\n",
       "  'pembroke': [],\n",
       "  'pinscher': ['miniature'],\n",
       "  'pitbull': [],\n",
       "  'pointer': ['german', 'germanlonghair'],\n",
       "  'pomeranian': [],\n",
       "  'poodle': ['medium', 'miniature', 'standard', 'toy'],\n",
       "  'pug': [],\n",
       "  'puggle': [],\n",
       "  'pyrenees': [],\n",
       "  'redbone': [],\n",
       "  'retriever': ['chesapeake', 'curly', 'flatcoated', 'golden'],\n",
       "  'ridgeback': ['rhodesian'],\n",
       "  'rottweiler': [],\n",
       "  'saluki': [],\n",
       "  'samoyed': [],\n",
       "  'schipperke': [],\n",
       "  'schnauzer': ['giant', 'miniature'],\n",
       "  'segugio': ['italian'],\n",
       "  'setter': ['english', 'gordon', 'irish'],\n",
       "  'sharpei': [],\n",
       "  'sheepdog': ['english', 'shetland'],\n",
       "  'shiba': [],\n",
       "  'shihtzu': [],\n",
       "  'spaniel': ['blenheim',\n",
       "   'brittany',\n",
       "   'cocker',\n",
       "   'irish',\n",
       "   'japanese',\n",
       "   'sussex',\n",
       "   'welsh'],\n",
       "  'spitz': ['japanese'],\n",
       "  'springer': ['english'],\n",
       "  'stbernard': [],\n",
       "  'terrier': ['american',\n",
       "   'australian',\n",
       "   'bedlington',\n",
       "   'border',\n",
       "   'cairn',\n",
       "   'dandie',\n",
       "   'fox',\n",
       "   'irish',\n",
       "   'kerryblue',\n",
       "   'lakeland',\n",
       "   'norfolk',\n",
       "   'norwich',\n",
       "   'patterdale',\n",
       "   'russell',\n",
       "   'scottish',\n",
       "   'sealyham',\n",
       "   'silky',\n",
       "   'tibetan',\n",
       "   'toy',\n",
       "   'welsh',\n",
       "   'westhighland',\n",
       "   'wheaten',\n",
       "   'yorkshire'],\n",
       "  'tervuren': [],\n",
       "  'vizsla': [],\n",
       "  'waterdog': ['spanish'],\n",
       "  'weimaraner': [],\n",
       "  'whippet': [],\n",
       "  'wolfhound': ['irish']},\n",
       " 'status': 'success'}"
      ]
     },
     "execution_count": 14,
     "metadata": {},
     "output_type": "execute_result"
    }
   ],
   "source": [
    "data=response.json()\n",
    "data"
   ]
  }
 ],
 "metadata": {
  "kernelspec": {
   "display_name": "Python 3 (ipykernel)",
   "language": "python",
   "name": "python3"
  },
  "language_info": {
   "codemirror_mode": {
    "name": "ipython",
    "version": 3
   },
   "file_extension": ".py",
   "mimetype": "text/x-python",
   "name": "python",
   "nbconvert_exporter": "python",
   "pygments_lexer": "ipython3",
   "version": "3.9.12"
  }
 },
 "nbformat": 4,
 "nbformat_minor": 5
}
