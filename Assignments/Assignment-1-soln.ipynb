{
 "cells": [
  {
   "cell_type": "markdown",
   "id": "bafa19bb",
   "metadata": {},
   "source": [
    "# Question 1 "
   ]
  },
  {
   "cell_type": "code",
   "execution_count": null,
   "id": "83ae5736",
   "metadata": {},
   "outputs": [],
   "source": [
    "def gcd (a,b):\n",
    "    if b==0 :\n",
    "        return a\n",
    "    else :\n",
    "        return gcd(b,a%b)"
   ]
  },
  {
   "cell_type": "code",
   "execution_count": null,
   "id": "c7307371",
   "metadata": {},
   "outputs": [],
   "source": [
    "gcd(10,15)\n"
   ]
  },
  {
   "cell_type": "markdown",
   "id": "8ed47f64",
   "metadata": {},
   "source": [
    "# Question 2 "
   ]
  },
  {
   "cell_type": "code",
   "execution_count": null,
   "id": "0c8f18cd",
   "metadata": {},
   "outputs": [],
   "source": [
    "def getPower(i,n):\n",
    "    f=1\n",
    "    c=0\n",
    "    x= n//(i**f)\n",
    "    c+=x\n",
    "    while x >0 :\n",
    "        f+=1\n",
    "        x= n//(i**f)\n",
    "        c+=x\n",
    "    return c    "
   ]
  },
  {
   "cell_type": "code",
   "execution_count": null,
   "id": "1963f604",
   "metadata": {},
   "outputs": [],
   "source": [
    "n=10\n",
    "two=getPower(2,n)\n",
    "five=getPower(5,n)\n",
    "min(two,five)"
   ]
  },
  {
   "cell_type": "markdown",
   "id": "4d52c022",
   "metadata": {},
   "source": [
    "# Question 3"
   ]
  },
  {
   "cell_type": "code",
   "execution_count": null,
   "id": "4d796e08",
   "metadata": {},
   "outputs": [],
   "source": [
    "import numpy,math\n",
    "[r,x,y,x1,y1]=(numpy.array(input().split(),dtype='int'))\n",
    "dis=(math.sqrt((y1 - y)**2 +(x1 - x)**2))\n",
    "math.ceil(dis/(2*r))"
   ]
  },
  {
   "cell_type": "markdown",
   "id": "86bce178",
   "metadata": {},
   "source": [
    "# Question 4"
   ]
  },
  {
   "cell_type": "code",
   "execution_count": null,
   "id": "2c346c94",
   "metadata": {},
   "outputs": [],
   "source": [
    "[[1  4]\n",
    " [9 16]]"
   ]
  },
  {
   "cell_type": "markdown",
   "id": "a249b6e0",
   "metadata": {},
   "source": [
    "# Question 5"
   ]
  },
  {
   "cell_type": "code",
   "execution_count": null,
   "id": "83b11b52",
   "metadata": {},
   "outputs": [],
   "source": [
    "[3,4,5]"
   ]
  },
  {
   "cell_type": "markdown",
   "id": "cd28a4ad",
   "metadata": {},
   "source": [
    "# Bonus"
   ]
  },
  {
   "cell_type": "code",
   "execution_count": null,
   "id": "adfc28f4",
   "metadata": {},
   "outputs": [],
   "source": [
    "def tower_of_hanoi(N, base, auxiliary, to):\n",
    "    if (N == 0):\n",
    "        return\n",
    "    tower_of_hanoi(N-1, base, to, auxiliary)\n",
    "    print(base, to)\n",
    "    tower_of_hanoi(N-1, auxiliary, base, to)\n",
    "\n",
    "\n",
    "N = int(input())\n",
    "print(2**N-1)\n",
    "tower_of_hanoi(N, 1, 2, 3)"
   ]
  }
 ],
 "metadata": {
  "interpreter": {
   "hash": "fe4396b28596d20ef2940e683878278b08fa62a3bda24c63780525cae0326016"
  },
  "kernelspec": {
   "display_name": "Python 3 (ipykernel)",
   "language": "python",
   "name": "python3"
  },
  "language_info": {
   "codemirror_mode": {
    "name": "ipython",
    "version": 3
   },
   "file_extension": ".py",
   "mimetype": "text/x-python",
   "name": "python",
   "nbconvert_exporter": "python",
   "pygments_lexer": "ipython3",
   "version": "3.9.12"
  }
 },
 "nbformat": 4,
 "nbformat_minor": 5
}
